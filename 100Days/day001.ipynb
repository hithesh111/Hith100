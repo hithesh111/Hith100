{
 "cells": [
  {
   "cell_type": "markdown",
   "metadata": {},
   "source": [
    "<div dir=\"ltr\" style=\"text-align: left;\" trbidi=\"on\">\n",
    "<div class=\"separator\" style=\"clear: both; text-align: center;\">\n",
    "<a href=\"https://1.bp.blogspot.com/-4bjI84956pI/XeaokWu4OgI/AAAAAAAATNk/XinqsctYu_c-Ktry93LhuXGdMCoUfD0dgCLcBGAsYHQ/s1600/1c0185c17f8ea09c2ef0df764bc369bfae2b5f89_linear_regression_explained_7.png\" imageanchor=\"1\" style=\"margin-left: 1em; margin-right: 1em;\"><img border=\"0\" data-original-height=\"252\" data-original-width=\"372\" height=\"216\" src=\"https://1.bp.blogspot.com/-4bjI84956pI/XeaokWu4OgI/AAAAAAAATNk/XinqsctYu_c-Ktry93LhuXGdMCoUfD0dgCLcBGAsYHQ/s320/1c0185c17f8ea09c2ef0df764bc369bfae2b5f89_linear_regression_explained_7.png\" width=\"320\" /></a></div>\n",
    "<h2 style=\"text-align: left;\">\n",
    "&nbsp;</h2>\n",
    "<h2 style=\"text-align: left;\">\n",
    "100 Days Challenge - Day 1.</h2>\n",
    "<h3 style=\"text-align: left;\">\n",
    "Linear Regression, Logistic Regression and Neural Networks</h3>\n",
    "Revised Week 1 to Week 4 of Andrew Ng's Machine Learning course on Coursera which I had already completed a few months ago.<br />\n",
    "<!--more--><br />\n",
    "Topics covered include:<br />\n",
    "<br />\n",
    "Introduction to Machine Learning<br />\n",
    "<ul style=\"text-align: left;\">\n",
    "<li>Supervised</li>\n",
    "<li>Unsupervised</li>\n",
    "</ul>\n",
    "Linear Regression in One Variable<br />\n",
    "<ul style=\"text-align: left;\">\n",
    "<li>Model Representation</li>\n",
    "<li>Cost Function</li>\n",
    "<li>Gradient Descent </li>\n",
    "</ul>\n",
    "&nbsp;Linear Regression in Multiple Variables<br />\n",
    "<ul style=\"text-align: left;\">\n",
    "<li>Model Representation</li>\n",
    "<li>Gradient Descent</li>\n",
    "<li>Feature Scaling </li>\n",
    "<li>Learning Rate</li>\n",
    "<li>Polynomial Regression</li>\n",
    "<li>Normal Equation</li>\n",
    "<li>Normal Equation vs Gradient Descent</li>\n",
    "<li>Normal Equation Non-Invertibility </li>\n",
    "</ul>\n",
    "&nbsp;Logistic Regression<br />\n",
    "<ul style=\"text-align: left;\">\n",
    "<li>Hypothesis Representation</li>\n",
    "<li>Sigmoid Function</li>\n",
    "<li>Decision Boundary (Linear, Non-Linear)</li>\n",
    "<li>Cost Function and Gradient Descent</li>\n",
    "<li>One vs All Multi-class Classification</li>\n",
    "</ul>\n",
    "&nbsp;Regularization<br />\n",
    "<ul style=\"text-align: left;\">\n",
    "<li>Overfitting</li>\n",
    "<li>Correction in Cost Function (Regularization)</li>\n",
    "<li>Gradient Descent</li>\n",
    "<li>Normal Equation and Invertibility</li>\n",
    "</ul>\n",
    "Neural Networks<br />\n",
    "<ul style=\"text-align: left;\">\n",
    "<li>Examples and Intuitions</li>\n",
    "<li>Multi-class Classification</li>\n",
    "</ul>\n",
    "</div>"
   ]
  }
 ],
 "metadata": {
  "kernelspec": {
   "display_name": "Python 3",
   "language": "python",
   "name": "python3"
  },
  "language_info": {
   "codemirror_mode": {
    "name": "ipython",
    "version": 3
   },
   "file_extension": ".py",
   "mimetype": "text/x-python",
   "name": "python",
   "nbconvert_exporter": "python",
   "pygments_lexer": "ipython3",
   "version": "3.7.6"
  }
 },
 "nbformat": 4,
 "nbformat_minor": 4
}
